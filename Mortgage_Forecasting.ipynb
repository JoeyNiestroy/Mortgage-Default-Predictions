{
 "cells": [
  {
   "cell_type": "code",
   "execution_count": 1,
   "id": "6ba0be9c",
   "metadata": {},
   "outputs": [],
   "source": [
    "#First half of this notebook is all preprocssing, pls ignore horrible readability and terrible documentation \n",
    "\n",
    "import pandas as pd\n",
    "\n",
    "df = pd.read_csv('Data/2018Q2.csv', sep = \"|\")"
   ]
  },
  {
   "cell_type": "code",
   "execution_count": 2,
   "id": "5c93327f",
   "metadata": {},
   "outputs": [],
   "source": [
    "columns = [\"POOL_ID\", \"LOAN_ID\", \"ACT_PERIOD\", \"CHANNEL\", \"SELLER\", \"SERVICER\",\n",
    "                        \"MASTER_SERVICER\", \"ORIG_RATE\", \"CURR_RATE\", \"ORIG_UPB\", \"ISSUANCE_UPB\",\n",
    "                        \"CURRENT_UPB\", \"ORIG_TERM\", \"ORIG_DATE\", \"FIRST_PAY\", \"LOAN_AGE\",\n",
    "                        \"REM_MONTHS\", \"ADJ_REM_MONTHS\", \"MATR_DT\", \"OLTV\", \"OCLTV\",\n",
    "                        \"NUM_BO\", \"DTI\", \"CSCORE_B\", \"CSCORE_C\", \"FIRST_FLAG\", \"PURPOSE\",\n",
    "                        \"PROP\", \"NO_UNITS\", \"OCC_STAT\", \"STATE\", \"MSA\", \"ZIP\", \"MI_PCT\",\n",
    "                        \"PRODUCT\", \"PPMT_FLG\", \"IO\", \"FIRST_PAY_IO\", \"MNTHS_TO_AMTZ_IO\",\n",
    "                        \"DLQ_STATUS\", \"PMT_HISTORY\", \"MOD_FLAG\", \"MI_CANCEL_FLAG\", \"Zero_Bal_Code\",\n",
    "                        \"ZB_DTE\", \"LAST_UPB\", \"RPRCH_DTE\", \"CURR_SCHD_PRNCPL\", \"TOT_SCHD_PRNCPL\",\n",
    "                        \"UNSCHD_PRNCPL_CURR\", \"LAST_PAID_INSTALLMENT_DATE\", \"FORECLOSURE_DATE\",\n",
    "                        \"DISPOSITION_DATE\", \"FORECLOSURE_COSTS\", \"PROPERTY_PRESERVATION_AND_REPAIR_COSTS\",\n",
    "                        \"ASSET_RECOVERY_COSTS\", \"MISCELLANEOUS_HOLDING_EXPENSES_AND_CREDITS\",\n",
    "                        \"ASSOCIATED_TAXES_FOR_HOLDING_PROPERTY\", \"NET_SALES_PROCEEDS\",\n",
    "                        \"CREDIT_ENHANCEMENT_PROCEEDS\", \"REPURCHASES_MAKE_WHOLE_PROCEEDS\",\n",
    "                        \"OTHER_FORECLOSURE_PROCEEDS\", \"NON_INTEREST_BEARING_UPB\", \"PRINCIPAL_FORGIVENESS_AMOUNT\",\n",
    "                        \"ORIGINAL_LIST_START_DATE\", \"ORIGINAL_LIST_PRICE\", \"CURRENT_LIST_START_DATE\",\n",
    "                        \"CURRENT_LIST_PRICE\", \"ISSUE_SCOREB\", \"ISSUE_SCOREC\", \"CURR_SCOREB\",\n",
    "                        \"CURR_SCOREC\", \"MI_TYPE\", \"SERV_IND\", \"CURRENT_PERIOD_MODIFICATION_LOSS_AMOUNT\",\n",
    "                        \"CUMULATIVE_MODIFICATION_LOSS_AMOUNT\", \"CURRENT_PERIOD_CREDIT_EVENT_NET_GAIN_OR_LOSS\",\n",
    "                        \"CUMULATIVE_CREDIT_EVENT_NET_GAIN_OR_LOSS\", \"HOMEREADY_PROGRAM_INDICATOR\",\n",
    "                        \"FORECLOSURE_PRINCIPAL_WRITE_OFF_AMOUNT\", \"RELOCATION_MORTGAGE_INDICATOR\",\n",
    "                        \"ZERO_BALANCE_CODE_CHANGE_DATE\", \"LOAN_HOLDBACK_INDICATOR\", \"LOAN_HOLDBACK_EFFECTIVE_DATE\",\n",
    "                        \"DELINQUENT_ACCRUED_INTEREST\", \"PROPERTY_INSPECTION_WAIVER_INDICATOR\",\n",
    "                        \"HIGH_BALANCE_LOAN_INDICATOR\", \"ARM_5_YR_INDICATOR\", \"ARM_PRODUCT_TYPE\",\n",
    "                        \"MONTHS_UNTIL_FIRST_PAYMENT_RESET\", \"MONTHS_BETWEEN_SUBSEQUENT_PAYMENT_RESET\",\n",
    "                        \"INTEREST_RATE_CHANGE_DATE\", \"PAYMENT_CHANGE_DATE\", \"ARM_INDEX\",\n",
    "                        \"ARM_CAP_STRUCTURE\", \"INITIAL_INTEREST_RATE_CAP\", \"PERIODIC_INTEREST_RATE_CAP\",\n",
    "                        \"LIFETIME_INTEREST_RATE_CAP\", \"MARGIN\", \"BALLOON_INDICATOR\",\n",
    "                        \"PLAN_NUMBER\", \"FORBEARANCE_INDICATOR\", \"HIGH_LOAN_TO_VALUE_HLTV_REFINANCE_OPTION_INDICATOR\",\n",
    "                        \"DEAL_NAME\", \"RE_PROCS_FLAG\", \"ADR_TYPE\", \"ADR_COUNT\", \"ADR_UPB\"]\n",
    "df.columns = columns"
   ]
  },
  {
   "cell_type": "code",
   "execution_count": 3,
   "id": "7ca0f44f",
   "metadata": {},
   "outputs": [
    {
     "data": {
      "text/html": [
       "<div>\n",
       "<style scoped>\n",
       "    .dataframe tbody tr th:only-of-type {\n",
       "        vertical-align: middle;\n",
       "    }\n",
       "\n",
       "    .dataframe tbody tr th {\n",
       "        vertical-align: top;\n",
       "    }\n",
       "\n",
       "    .dataframe thead th {\n",
       "        text-align: right;\n",
       "    }\n",
       "</style>\n",
       "<table border=\"1\" class=\"dataframe\">\n",
       "  <thead>\n",
       "    <tr style=\"text-align: right;\">\n",
       "      <th></th>\n",
       "      <th>POOL_ID</th>\n",
       "      <th>LOAN_ID</th>\n",
       "      <th>ACT_PERIOD</th>\n",
       "      <th>CHANNEL</th>\n",
       "      <th>SELLER</th>\n",
       "      <th>SERVICER</th>\n",
       "      <th>MASTER_SERVICER</th>\n",
       "      <th>ORIG_RATE</th>\n",
       "      <th>CURR_RATE</th>\n",
       "      <th>ORIG_UPB</th>\n",
       "      <th>...</th>\n",
       "      <th>MARGIN</th>\n",
       "      <th>BALLOON_INDICATOR</th>\n",
       "      <th>PLAN_NUMBER</th>\n",
       "      <th>FORBEARANCE_INDICATOR</th>\n",
       "      <th>HIGH_LOAN_TO_VALUE_HLTV_REFINANCE_OPTION_INDICATOR</th>\n",
       "      <th>DEAL_NAME</th>\n",
       "      <th>RE_PROCS_FLAG</th>\n",
       "      <th>ADR_TYPE</th>\n",
       "      <th>ADR_COUNT</th>\n",
       "      <th>ADR_UPB</th>\n",
       "    </tr>\n",
       "  </thead>\n",
       "  <tbody>\n",
       "    <tr>\n",
       "      <th>0</th>\n",
       "      <td>NaN</td>\n",
       "      <td>100000274788</td>\n",
       "      <td>72018</td>\n",
       "      <td>C</td>\n",
       "      <td>Pennymac Corp.</td>\n",
       "      <td>Pennymac Corp.</td>\n",
       "      <td>NaN</td>\n",
       "      <td>4.250</td>\n",
       "      <td>4.250</td>\n",
       "      <td>271000.0</td>\n",
       "      <td>...</td>\n",
       "      <td>NaN</td>\n",
       "      <td>NaN</td>\n",
       "      <td>NaN</td>\n",
       "      <td>NaN</td>\n",
       "      <td>N</td>\n",
       "      <td>NaN</td>\n",
       "      <td>NaN</td>\n",
       "      <td>NaN</td>\n",
       "      <td>NaN</td>\n",
       "      <td>NaN</td>\n",
       "    </tr>\n",
       "    <tr>\n",
       "      <th>1</th>\n",
       "      <td>NaN</td>\n",
       "      <td>100000274788</td>\n",
       "      <td>82018</td>\n",
       "      <td>C</td>\n",
       "      <td>Pennymac Corp.</td>\n",
       "      <td>Pennymac Corp.</td>\n",
       "      <td>NaN</td>\n",
       "      <td>4.250</td>\n",
       "      <td>4.250</td>\n",
       "      <td>271000.0</td>\n",
       "      <td>...</td>\n",
       "      <td>NaN</td>\n",
       "      <td>NaN</td>\n",
       "      <td>NaN</td>\n",
       "      <td>NaN</td>\n",
       "      <td>N</td>\n",
       "      <td>NaN</td>\n",
       "      <td>NaN</td>\n",
       "      <td>NaN</td>\n",
       "      <td>NaN</td>\n",
       "      <td>NaN</td>\n",
       "    </tr>\n",
       "    <tr>\n",
       "      <th>2</th>\n",
       "      <td>NaN</td>\n",
       "      <td>100000274788</td>\n",
       "      <td>92018</td>\n",
       "      <td>C</td>\n",
       "      <td>Pennymac Corp.</td>\n",
       "      <td>Pennymac Corp.</td>\n",
       "      <td>NaN</td>\n",
       "      <td>4.250</td>\n",
       "      <td>4.250</td>\n",
       "      <td>271000.0</td>\n",
       "      <td>...</td>\n",
       "      <td>NaN</td>\n",
       "      <td>NaN</td>\n",
       "      <td>NaN</td>\n",
       "      <td>NaN</td>\n",
       "      <td>N</td>\n",
       "      <td>NaN</td>\n",
       "      <td>NaN</td>\n",
       "      <td>NaN</td>\n",
       "      <td>NaN</td>\n",
       "      <td>NaN</td>\n",
       "    </tr>\n",
       "    <tr>\n",
       "      <th>3</th>\n",
       "      <td>NaN</td>\n",
       "      <td>100000274788</td>\n",
       "      <td>102018</td>\n",
       "      <td>C</td>\n",
       "      <td>Pennymac Corp.</td>\n",
       "      <td>Pennymac Corp.</td>\n",
       "      <td>NaN</td>\n",
       "      <td>4.250</td>\n",
       "      <td>4.250</td>\n",
       "      <td>271000.0</td>\n",
       "      <td>...</td>\n",
       "      <td>NaN</td>\n",
       "      <td>NaN</td>\n",
       "      <td>NaN</td>\n",
       "      <td>NaN</td>\n",
       "      <td>N</td>\n",
       "      <td>NaN</td>\n",
       "      <td>NaN</td>\n",
       "      <td>NaN</td>\n",
       "      <td>NaN</td>\n",
       "      <td>NaN</td>\n",
       "    </tr>\n",
       "    <tr>\n",
       "      <th>4</th>\n",
       "      <td>NaN</td>\n",
       "      <td>100000274788</td>\n",
       "      <td>112018</td>\n",
       "      <td>C</td>\n",
       "      <td>Pennymac Corp.</td>\n",
       "      <td>Pennymac Corp.</td>\n",
       "      <td>NaN</td>\n",
       "      <td>4.250</td>\n",
       "      <td>4.250</td>\n",
       "      <td>271000.0</td>\n",
       "      <td>...</td>\n",
       "      <td>NaN</td>\n",
       "      <td>NaN</td>\n",
       "      <td>NaN</td>\n",
       "      <td>NaN</td>\n",
       "      <td>N</td>\n",
       "      <td>NaN</td>\n",
       "      <td>NaN</td>\n",
       "      <td>NaN</td>\n",
       "      <td>NaN</td>\n",
       "      <td>NaN</td>\n",
       "    </tr>\n",
       "    <tr>\n",
       "      <th>...</th>\n",
       "      <td>...</td>\n",
       "      <td>...</td>\n",
       "      <td>...</td>\n",
       "      <td>...</td>\n",
       "      <td>...</td>\n",
       "      <td>...</td>\n",
       "      <td>...</td>\n",
       "      <td>...</td>\n",
       "      <td>...</td>\n",
       "      <td>...</td>\n",
       "      <td>...</td>\n",
       "      <td>...</td>\n",
       "      <td>...</td>\n",
       "      <td>...</td>\n",
       "      <td>...</td>\n",
       "      <td>...</td>\n",
       "      <td>...</td>\n",
       "      <td>...</td>\n",
       "      <td>...</td>\n",
       "      <td>...</td>\n",
       "      <td>...</td>\n",
       "    </tr>\n",
       "    <tr>\n",
       "      <th>15985111</th>\n",
       "      <td>NaN</td>\n",
       "      <td>999998485324</td>\n",
       "      <td>82022</td>\n",
       "      <td>R</td>\n",
       "      <td>Other</td>\n",
       "      <td>New Residential Mortgage LLC</td>\n",
       "      <td>NaN</td>\n",
       "      <td>4.875</td>\n",
       "      <td>4.875</td>\n",
       "      <td>70000.0</td>\n",
       "      <td>...</td>\n",
       "      <td>NaN</td>\n",
       "      <td>NaN</td>\n",
       "      <td>NaN</td>\n",
       "      <td>7</td>\n",
       "      <td>N</td>\n",
       "      <td>NaN</td>\n",
       "      <td>NaN</td>\n",
       "      <td>7</td>\n",
       "      <td>NaN</td>\n",
       "      <td>NaN</td>\n",
       "    </tr>\n",
       "    <tr>\n",
       "      <th>15985112</th>\n",
       "      <td>NaN</td>\n",
       "      <td>999998485324</td>\n",
       "      <td>92022</td>\n",
       "      <td>R</td>\n",
       "      <td>Other</td>\n",
       "      <td>New Residential Mortgage LLC</td>\n",
       "      <td>NaN</td>\n",
       "      <td>4.875</td>\n",
       "      <td>4.875</td>\n",
       "      <td>70000.0</td>\n",
       "      <td>...</td>\n",
       "      <td>NaN</td>\n",
       "      <td>NaN</td>\n",
       "      <td>NaN</td>\n",
       "      <td>7</td>\n",
       "      <td>N</td>\n",
       "      <td>NaN</td>\n",
       "      <td>NaN</td>\n",
       "      <td>7</td>\n",
       "      <td>NaN</td>\n",
       "      <td>NaN</td>\n",
       "    </tr>\n",
       "    <tr>\n",
       "      <th>15985113</th>\n",
       "      <td>NaN</td>\n",
       "      <td>999998485324</td>\n",
       "      <td>102022</td>\n",
       "      <td>R</td>\n",
       "      <td>Other</td>\n",
       "      <td>New Residential Mortgage LLC</td>\n",
       "      <td>NaN</td>\n",
       "      <td>4.875</td>\n",
       "      <td>4.875</td>\n",
       "      <td>70000.0</td>\n",
       "      <td>...</td>\n",
       "      <td>NaN</td>\n",
       "      <td>NaN</td>\n",
       "      <td>NaN</td>\n",
       "      <td>7</td>\n",
       "      <td>N</td>\n",
       "      <td>NaN</td>\n",
       "      <td>NaN</td>\n",
       "      <td>7</td>\n",
       "      <td>NaN</td>\n",
       "      <td>NaN</td>\n",
       "    </tr>\n",
       "    <tr>\n",
       "      <th>15985114</th>\n",
       "      <td>NaN</td>\n",
       "      <td>999998485324</td>\n",
       "      <td>112022</td>\n",
       "      <td>R</td>\n",
       "      <td>Other</td>\n",
       "      <td>New Residential Mortgage LLC</td>\n",
       "      <td>NaN</td>\n",
       "      <td>4.875</td>\n",
       "      <td>4.875</td>\n",
       "      <td>70000.0</td>\n",
       "      <td>...</td>\n",
       "      <td>NaN</td>\n",
       "      <td>NaN</td>\n",
       "      <td>NaN</td>\n",
       "      <td>7</td>\n",
       "      <td>N</td>\n",
       "      <td>NaN</td>\n",
       "      <td>NaN</td>\n",
       "      <td>7</td>\n",
       "      <td>NaN</td>\n",
       "      <td>NaN</td>\n",
       "    </tr>\n",
       "    <tr>\n",
       "      <th>15985115</th>\n",
       "      <td>NaN</td>\n",
       "      <td>999998485324</td>\n",
       "      <td>122022</td>\n",
       "      <td>R</td>\n",
       "      <td>Other</td>\n",
       "      <td>New Residential Mortgage LLC</td>\n",
       "      <td>NaN</td>\n",
       "      <td>4.875</td>\n",
       "      <td>4.875</td>\n",
       "      <td>70000.0</td>\n",
       "      <td>...</td>\n",
       "      <td>NaN</td>\n",
       "      <td>NaN</td>\n",
       "      <td>NaN</td>\n",
       "      <td>7</td>\n",
       "      <td>N</td>\n",
       "      <td>NaN</td>\n",
       "      <td>NaN</td>\n",
       "      <td>7</td>\n",
       "      <td>NaN</td>\n",
       "      <td>NaN</td>\n",
       "    </tr>\n",
       "  </tbody>\n",
       "</table>\n",
       "<p>15985116 rows × 108 columns</p>\n",
       "</div>"
      ],
      "text/plain": [
       "          POOL_ID       LOAN_ID  ACT_PERIOD CHANNEL          SELLER  \\\n",
       "0             NaN  100000274788       72018       C  Pennymac Corp.   \n",
       "1             NaN  100000274788       82018       C  Pennymac Corp.   \n",
       "2             NaN  100000274788       92018       C  Pennymac Corp.   \n",
       "3             NaN  100000274788      102018       C  Pennymac Corp.   \n",
       "4             NaN  100000274788      112018       C  Pennymac Corp.   \n",
       "...           ...           ...         ...     ...             ...   \n",
       "15985111      NaN  999998485324       82022       R           Other   \n",
       "15985112      NaN  999998485324       92022       R           Other   \n",
       "15985113      NaN  999998485324      102022       R           Other   \n",
       "15985114      NaN  999998485324      112022       R           Other   \n",
       "15985115      NaN  999998485324      122022       R           Other   \n",
       "\n",
       "                              SERVICER  MASTER_SERVICER  ORIG_RATE  CURR_RATE  \\\n",
       "0                       Pennymac Corp.              NaN      4.250      4.250   \n",
       "1                       Pennymac Corp.              NaN      4.250      4.250   \n",
       "2                       Pennymac Corp.              NaN      4.250      4.250   \n",
       "3                       Pennymac Corp.              NaN      4.250      4.250   \n",
       "4                       Pennymac Corp.              NaN      4.250      4.250   \n",
       "...                                ...              ...        ...        ...   \n",
       "15985111  New Residential Mortgage LLC              NaN      4.875      4.875   \n",
       "15985112  New Residential Mortgage LLC              NaN      4.875      4.875   \n",
       "15985113  New Residential Mortgage LLC              NaN      4.875      4.875   \n",
       "15985114  New Residential Mortgage LLC              NaN      4.875      4.875   \n",
       "15985115  New Residential Mortgage LLC              NaN      4.875      4.875   \n",
       "\n",
       "          ORIG_UPB  ...  MARGIN  BALLOON_INDICATOR  PLAN_NUMBER  \\\n",
       "0         271000.0  ...     NaN                NaN          NaN   \n",
       "1         271000.0  ...     NaN                NaN          NaN   \n",
       "2         271000.0  ...     NaN                NaN          NaN   \n",
       "3         271000.0  ...     NaN                NaN          NaN   \n",
       "4         271000.0  ...     NaN                NaN          NaN   \n",
       "...            ...  ...     ...                ...          ...   \n",
       "15985111   70000.0  ...     NaN                NaN          NaN   \n",
       "15985112   70000.0  ...     NaN                NaN          NaN   \n",
       "15985113   70000.0  ...     NaN                NaN          NaN   \n",
       "15985114   70000.0  ...     NaN                NaN          NaN   \n",
       "15985115   70000.0  ...     NaN                NaN          NaN   \n",
       "\n",
       "          FORBEARANCE_INDICATOR  \\\n",
       "0                           NaN   \n",
       "1                           NaN   \n",
       "2                           NaN   \n",
       "3                           NaN   \n",
       "4                           NaN   \n",
       "...                         ...   \n",
       "15985111                      7   \n",
       "15985112                      7   \n",
       "15985113                      7   \n",
       "15985114                      7   \n",
       "15985115                      7   \n",
       "\n",
       "          HIGH_LOAN_TO_VALUE_HLTV_REFINANCE_OPTION_INDICATOR  DEAL_NAME  \\\n",
       "0                                                         N         NaN   \n",
       "1                                                         N         NaN   \n",
       "2                                                         N         NaN   \n",
       "3                                                         N         NaN   \n",
       "4                                                         N         NaN   \n",
       "...                                                     ...         ...   \n",
       "15985111                                                  N         NaN   \n",
       "15985112                                                  N         NaN   \n",
       "15985113                                                  N         NaN   \n",
       "15985114                                                  N         NaN   \n",
       "15985115                                                  N         NaN   \n",
       "\n",
       "          RE_PROCS_FLAG  ADR_TYPE  ADR_COUNT  ADR_UPB  \n",
       "0                   NaN       NaN        NaN      NaN  \n",
       "1                   NaN       NaN        NaN      NaN  \n",
       "2                   NaN       NaN        NaN      NaN  \n",
       "3                   NaN       NaN        NaN      NaN  \n",
       "4                   NaN       NaN        NaN      NaN  \n",
       "...                 ...       ...        ...      ...  \n",
       "15985111            NaN         7        NaN      NaN  \n",
       "15985112            NaN         7        NaN      NaN  \n",
       "15985113            NaN         7        NaN      NaN  \n",
       "15985114            NaN         7        NaN      NaN  \n",
       "15985115            NaN         7        NaN      NaN  \n",
       "\n",
       "[15985116 rows x 108 columns]"
      ]
     },
     "execution_count": 3,
     "metadata": {},
     "output_type": "execute_result"
    }
   ],
   "source": [
    "df"
   ]
  },
  {
   "cell_type": "code",
   "execution_count": 8,
   "id": "5c05d125",
   "metadata": {},
   "outputs": [
    {
     "name": "stdout",
     "output_type": "stream",
     "text": [
      "done\n",
      "done\n",
      "done\n"
     ]
    }
   ],
   "source": [
    "possible_default = list(df[df[\"DLQ_STATUS\"] == '03'][\"LOAN_ID\"].unique())\n",
    "dic = {}\n",
    "for loan_id in df[\"LOAN_ID\"].unique():\n",
    "    if loan_id in possible_default:\n",
    "        dic[loan_id] = 1\n",
    "    else:\n",
    "        dic[loan_id] = 0\n",
    "\n",
    "        \n",
    "def check_dlq(dlq):\n",
    "    if dlq == \"00\":\n",
    "        return 0\n",
    "    else:\n",
    "        return 1\n",
    "def create_targets(loan_id):\n",
    "    return dic[loan_id]\n",
    "def determine_credit_drop(val):\n",
    "    if val > 0:\n",
    "        return 1\n",
    "    else:\n",
    "        return 0\n",
    "df[\"Pct_left_UPB\"] = df[\"CURRENT_UPB\"] / df[\"ORIG_UPB\"]\n",
    "print(\"done\")\n",
    "df[\"DLQ_STATUS_FLAG\"] = (df[\"DLQ_STATUS\"] == \"00\").astype(int)\n",
    "print(\"done\")\n",
    "df[\"DEFAULT_TAG\"] = df[\"LOAN_ID\"].map(dic)\n",
    "print(\"done\")\n",
    "df[\"CREDIT_DROP_FLAG\"] = (df[\"CSCORE_B\"] - df[\"CURR_SCOREB\"] > 0).astype(int)"
   ]
  },
  {
   "cell_type": "code",
   "execution_count": 5,
   "id": "af8083a6",
   "metadata": {},
   "outputs": [],
   "source": []
  },
  {
   "cell_type": "code",
   "execution_count": 26,
   "id": "037aaa5f",
   "metadata": {},
   "outputs": [],
   "source": [
    "features =[\"LOAN_ID\",\"SELLER\", \"SERVICER\",\"ORIG_RATE\",\"Pct_left_UPB\",\"REM_MONTHS\",\"NUM_BO\",\"DTI\",\n",
    "\n",
    "           \"CSCORE_B\",\"CSCORE_C\",\"FIRST_FLAG\",'PROP', \n",
    "\n",
    "'NO_UNITS','STATE','MSA','IO',\"DLQ_STATUS_FLAG\",\"CREDIT_DROP_FLAG\",\"DEFAULT_TAG\"]"
   ]
  },
  {
   "cell_type": "code",
   "execution_count": 27,
   "id": "6d55fe91",
   "metadata": {},
   "outputs": [],
   "source": [
    "arr = [\"00\",\"01\",\"02\"]\n",
    "temp = (df[df[\"DLQ_STATUS\"].isin(arr)])[features]"
   ]
  },
  {
   "cell_type": "code",
   "execution_count": 28,
   "id": "7c1730ca",
   "metadata": {},
   "outputs": [],
   "source": [
    "temp.to_csv(\"Training_Data.csv\")"
   ]
  },
  {
   "cell_type": "code",
   "execution_count": null,
   "id": "1f1d63af",
   "metadata": {},
   "outputs": [],
   "source": [
    "#Now we get to the modeling"
   ]
  },
  {
   "cell_type": "code",
   "execution_count": 1,
   "id": "a3babe52",
   "metadata": {},
   "outputs": [],
   "source": [
    "import pandas as pd\n",
    "temp = pd.read_csv(\"Training_Data.csv\")"
   ]
  },
  {
   "cell_type": "code",
   "execution_count": null,
   "id": "bfff1dee",
   "metadata": {},
   "outputs": [],
   "source": [
    "#random del statement bc 8gb memory is not enough for this project"
   ]
  },
  {
   "cell_type": "code",
   "execution_count": 70,
   "id": "632881b2",
   "metadata": {},
   "outputs": [],
   "source": [
    "del train_data,test_data,xgb_model"
   ]
  },
  {
   "cell_type": "code",
   "execution_count": 7,
   "id": "c235b3fe",
   "metadata": {},
   "outputs": [],
   "source": [
    "del temp"
   ]
  },
  {
   "cell_type": "code",
   "execution_count": 2,
   "id": "d9a36855",
   "metadata": {},
   "outputs": [],
   "source": [
    "#imports\n",
    "import xgboost as xgb\n",
    "from sklearn.model_selection import train_test_split\n",
    "from sklearn.metrics import accuracy_score,classification_report, confusion_matrix"
   ]
  },
  {
   "cell_type": "code",
   "execution_count": 3,
   "id": "e9b8db19",
   "metadata": {},
   "outputs": [],
   "source": [
    "from sklearn.linear_model import LogisticRegression"
   ]
  },
  {
   "cell_type": "code",
   "execution_count": 6,
   "id": "7c41d969",
   "metadata": {},
   "outputs": [],
   "source": [
    "temp = one_hot_encode_categorical_columns(temp)\n",
    "#Split along unique loans to avoid information leak\n",
    "train_loan_ids, test_loan_ids = train_test_split(temp['LOAN_ID'].unique(), test_size=0.8, random_state=42)\n",
    "\n",
    "train_data = temp[temp['LOAN_ID'].isin(train_loan_ids)]\n",
    "test_data = temp[temp['LOAN_ID'].isin(test_loan_ids)]\n"
   ]
  },
  {
   "cell_type": "code",
   "execution_count": 5,
   "id": "5ce2c95c",
   "metadata": {},
   "outputs": [],
   "source": [
    "def one_hot_encode_categorical_columns(df):\n",
    "    categorical_cols = df.select_dtypes(include='object').columns  # Select categorical columns\n",
    "\n",
    "    for col in categorical_cols:\n",
    "        encoded_cols = pd.get_dummies(df[col], prefix=col)  # Perform one-hot encoding\n",
    "        df = pd.concat([df, encoded_cols], axis=1)  # Concatenate encoded columns to the original DataFrame\n",
    "        df.drop(col, axis=1, inplace=True)  # Drop the original categorical column\n",
    "\n",
    "    return df"
   ]
  },
  {
   "cell_type": "code",
   "execution_count": 8,
   "id": "d1743415",
   "metadata": {},
   "outputs": [],
   "source": [
    "xgb_model = xgb.XGBClassifier(\n",
    "    max_depth=3,\n",
    "    learning_rate=0.08,\n",
    "    n_estimators=50,\n",
    "    objective='binary:logistic',\n",
    "    n_jobs=10,\n",
    "    scale_pos_weight=14\n",
    ")"
   ]
  },
  {
   "cell_type": "code",
   "execution_count": 9,
   "id": "c805d36d",
   "metadata": {},
   "outputs": [],
   "source": [
    "#XGB fitting and eval\n",
    "xgb_model.fit(train_data.drop([\"LOAN_ID\",\"DEFAULT_TAG\"], axis= 1), train_data['DEFAULT_TAG'])\n",
    "prediction_xgb = xgb_model.predict(test_data.drop([\"LOAN_ID\",\"DEFAULT_TAG\"], axis= 1))\n",
    "accuracy = accuracy_score(test_data[\"DEFAULT_TAG\"], prediction_xgb)\n",
    "report = classification_report(test_data[\"DEFAULT_TAG\"], prediction_xgb)"
   ]
  },
  {
   "cell_type": "code",
   "execution_count": 13,
   "id": "4be7be5f",
   "metadata": {},
   "outputs": [
    {
     "name": "stdout",
     "output_type": "stream",
     "text": [
      "              precision    recall  f1-score   support\n",
      "\n",
      "           0       0.97      0.76      0.85  11649959\n",
      "           1       0.17      0.70      0.28    847045\n",
      "\n",
      "    accuracy                           0.75  12497004\n",
      "   macro avg       0.57      0.73      0.56  12497004\n",
      "weighted avg       0.92      0.75      0.81  12497004\n",
      "\n"
     ]
    },
    {
     "data": {
      "text/plain": [
       "array([8809201, 2840758,  258347,  588698], dtype=int64)"
      ]
     },
     "execution_count": 13,
     "metadata": {},
     "output_type": "execute_result"
    }
   ],
   "source": [
    "print(report)\n",
    "confusion_matrix(test_data[\"DEFAULT_TAG\"], prediction_xgb).ravel()\n",
    "#(tn, fp, fn, tp)"
   ]
  },
  {
   "cell_type": "code",
   "execution_count": 152,
   "id": "b8c95ffd",
   "metadata": {},
   "outputs": [
    {
     "data": {
      "text/html": [
       "<style>#sk-container-id-17 {color: black;background-color: white;}#sk-container-id-17 pre{padding: 0;}#sk-container-id-17 div.sk-toggleable {background-color: white;}#sk-container-id-17 label.sk-toggleable__label {cursor: pointer;display: block;width: 100%;margin-bottom: 0;padding: 0.3em;box-sizing: border-box;text-align: center;}#sk-container-id-17 label.sk-toggleable__label-arrow:before {content: \"▸\";float: left;margin-right: 0.25em;color: #696969;}#sk-container-id-17 label.sk-toggleable__label-arrow:hover:before {color: black;}#sk-container-id-17 div.sk-estimator:hover label.sk-toggleable__label-arrow:before {color: black;}#sk-container-id-17 div.sk-toggleable__content {max-height: 0;max-width: 0;overflow: hidden;text-align: left;background-color: #f0f8ff;}#sk-container-id-17 div.sk-toggleable__content pre {margin: 0.2em;color: black;border-radius: 0.25em;background-color: #f0f8ff;}#sk-container-id-17 input.sk-toggleable__control:checked~div.sk-toggleable__content {max-height: 200px;max-width: 100%;overflow: auto;}#sk-container-id-17 input.sk-toggleable__control:checked~label.sk-toggleable__label-arrow:before {content: \"▾\";}#sk-container-id-17 div.sk-estimator input.sk-toggleable__control:checked~label.sk-toggleable__label {background-color: #d4ebff;}#sk-container-id-17 div.sk-label input.sk-toggleable__control:checked~label.sk-toggleable__label {background-color: #d4ebff;}#sk-container-id-17 input.sk-hidden--visually {border: 0;clip: rect(1px 1px 1px 1px);clip: rect(1px, 1px, 1px, 1px);height: 1px;margin: -1px;overflow: hidden;padding: 0;position: absolute;width: 1px;}#sk-container-id-17 div.sk-estimator {font-family: monospace;background-color: #f0f8ff;border: 1px dotted black;border-radius: 0.25em;box-sizing: border-box;margin-bottom: 0.5em;}#sk-container-id-17 div.sk-estimator:hover {background-color: #d4ebff;}#sk-container-id-17 div.sk-parallel-item::after {content: \"\";width: 100%;border-bottom: 1px solid gray;flex-grow: 1;}#sk-container-id-17 div.sk-label:hover label.sk-toggleable__label {background-color: #d4ebff;}#sk-container-id-17 div.sk-serial::before {content: \"\";position: absolute;border-left: 1px solid gray;box-sizing: border-box;top: 0;bottom: 0;left: 50%;z-index: 0;}#sk-container-id-17 div.sk-serial {display: flex;flex-direction: column;align-items: center;background-color: white;padding-right: 0.2em;padding-left: 0.2em;position: relative;}#sk-container-id-17 div.sk-item {position: relative;z-index: 1;}#sk-container-id-17 div.sk-parallel {display: flex;align-items: stretch;justify-content: center;background-color: white;position: relative;}#sk-container-id-17 div.sk-item::before, #sk-container-id-17 div.sk-parallel-item::before {content: \"\";position: absolute;border-left: 1px solid gray;box-sizing: border-box;top: 0;bottom: 0;left: 50%;z-index: -1;}#sk-container-id-17 div.sk-parallel-item {display: flex;flex-direction: column;z-index: 1;position: relative;background-color: white;}#sk-container-id-17 div.sk-parallel-item:first-child::after {align-self: flex-end;width: 50%;}#sk-container-id-17 div.sk-parallel-item:last-child::after {align-self: flex-start;width: 50%;}#sk-container-id-17 div.sk-parallel-item:only-child::after {width: 0;}#sk-container-id-17 div.sk-dashed-wrapped {border: 1px dashed gray;margin: 0 0.4em 0.5em 0.4em;box-sizing: border-box;padding-bottom: 0.4em;background-color: white;}#sk-container-id-17 div.sk-label label {font-family: monospace;font-weight: bold;display: inline-block;line-height: 1.2em;}#sk-container-id-17 div.sk-label-container {text-align: center;}#sk-container-id-17 div.sk-container {/* jupyter's `normalize.less` sets `[hidden] { display: none; }` but bootstrap.min.css set `[hidden] { display: none !important; }` so we also need the `!important` here to be able to override the default hidden behavior on the sphinx rendered scikit-learn.org. See: https://github.com/scikit-learn/scikit-learn/issues/21755 */display: inline-block !important;position: relative;}#sk-container-id-17 div.sk-text-repr-fallback {display: none;}</style><div id=\"sk-container-id-17\" class=\"sk-top-container\"><div class=\"sk-text-repr-fallback\"><pre>LogisticRegression(class_weight={0: 1, 1: 16.75})</pre><b>In a Jupyter environment, please rerun this cell to show the HTML representation or trust the notebook. <br />On GitHub, the HTML representation is unable to render, please try loading this page with nbviewer.org.</b></div><div class=\"sk-container\" hidden><div class=\"sk-item\"><div class=\"sk-estimator sk-toggleable\"><input class=\"sk-toggleable__control sk-hidden--visually\" id=\"sk-estimator-id-17\" type=\"checkbox\" checked><label for=\"sk-estimator-id-17\" class=\"sk-toggleable__label sk-toggleable__label-arrow\">LogisticRegression</label><div class=\"sk-toggleable__content\"><pre>LogisticRegression(class_weight={0: 1, 1: 16.75})</pre></div></div></div></div></div>"
      ],
      "text/plain": [
       "LogisticRegression(class_weight={0: 1, 1: 16.75})"
      ]
     },
     "execution_count": 152,
     "metadata": {},
     "output_type": "execute_result"
    }
   ],
   "source": [
    "#Bellow is logistic\n",
    "#Drop NA for logistic regressions\n",
    "train_data = train_data.dropna()\n",
    "class_weights = {0: 1, 1: 16.75}\n",
    "model = LogisticRegression(class_weight=class_weights)\n",
    "model.fit(train_data.drop([\"LOAN_ID\",\"DEFAULT_TAG\"], axis= 1), train_data['DEFAULT_TAG'])"
   ]
  },
  {
   "cell_type": "code",
   "execution_count": 153,
   "id": "9ee4886f",
   "metadata": {},
   "outputs": [],
   "source": [
    "#Drop NA for logistic regressions\n",
    "test_data = test_data.dropna()\n",
    "prediction = model.predict(test_data.drop([\"LOAN_ID\",\"DEFAULT_TAG\"], axis= 1))"
   ]
  },
  {
   "cell_type": "code",
   "execution_count": 155,
   "id": "18a614e2",
   "metadata": {},
   "outputs": [],
   "source": [
    "accuracy = accuracy_score(test_data[\"DEFAULT_TAG\"], prediction)"
   ]
  },
  {
   "cell_type": "code",
   "execution_count": 156,
   "id": "fd88d321",
   "metadata": {},
   "outputs": [
    {
     "data": {
      "text/plain": [
       "0.6643753823995003"
      ]
     },
     "execution_count": 156,
     "metadata": {},
     "output_type": "execute_result"
    }
   ],
   "source": [
    "accuracy"
   ]
  },
  {
   "cell_type": "code",
   "execution_count": 157,
   "id": "df3f214c",
   "metadata": {},
   "outputs": [],
   "source": [
    "report = classification_report(test_data[\"DEFAULT_TAG\"], prediction)"
   ]
  },
  {
   "cell_type": "code",
   "execution_count": 158,
   "id": "de7ed62d",
   "metadata": {},
   "outputs": [
    {
     "name": "stdout",
     "output_type": "stream",
     "text": [
      "              precision    recall  f1-score   support\n",
      "\n",
      "           0       0.95      0.68      0.79   5064127\n",
      "           1       0.07      0.41      0.12    290221\n",
      "\n",
      "    accuracy                           0.66   5354348\n",
      "   macro avg       0.51      0.54      0.45   5354348\n",
      "weighted avg       0.90      0.66      0.76   5354348\n",
      "\n"
     ]
    }
   ],
   "source": [
    "print(report)"
   ]
  },
  {
   "cell_type": "code",
   "execution_count": 159,
   "id": "ff43400d",
   "metadata": {},
   "outputs": [
    {
     "data": {
      "text/plain": [
       "array([3439318, 1624809,  172242,  117979], dtype=int64)"
      ]
     },
     "execution_count": 159,
     "metadata": {},
     "output_type": "execute_result"
    }
   ],
   "source": [
    "#Logistic Regression\n",
    "confusion_matrix(test_data[\"DEFAULT_TAG\"], prediction).ravel()\n",
    "#(tn, fp, fn, tp)"
   ]
  }
 ],
 "metadata": {
  "kernelspec": {
   "display_name": "Python 3 (ipykernel)",
   "language": "python",
   "name": "python3"
  },
  "language_info": {
   "codemirror_mode": {
    "name": "ipython",
    "version": 3
   },
   "file_extension": ".py",
   "mimetype": "text/x-python",
   "name": "python",
   "nbconvert_exporter": "python",
   "pygments_lexer": "ipython3",
   "version": "3.10.9"
  }
 },
 "nbformat": 4,
 "nbformat_minor": 5
}
